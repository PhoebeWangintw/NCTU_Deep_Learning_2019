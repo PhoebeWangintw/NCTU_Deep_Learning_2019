{
 "cells": [
  {
   "cell_type": "code",
   "execution_count": 1,
   "metadata": {},
   "outputs": [],
   "source": [
    "import numpy as np\n",
    "import matplotlib.pyplot as plt\n",
    "%matplotlib inline"
   ]
  },
  {
   "cell_type": "code",
   "execution_count": 2,
   "metadata": {},
   "outputs": [],
   "source": [
    "def generate_linear(n=100):\n",
    "    pts = np.random.uniform(0, 1, (n, 2))\n",
    "    inputs = []\n",
    "    labels = []\n",
    "    for pt in pts:\n",
    "        inputs.append([pt[0], pt[1]])\n",
    "        distance = (pt[0] - pt[1])/1.414\n",
    "        if pt[0] > pt[1]:\n",
    "            labels.append(0)\n",
    "        else:\n",
    "            labels.append(1)\n",
    "    \n",
    "    return np.array(inputs), np.array(labels).reshape(n, 1)"
   ]
  },
  {
   "cell_type": "code",
   "execution_count": 3,
   "metadata": {},
   "outputs": [],
   "source": [
    "def generate_XOR_easy():\n",
    "    inputs = []\n",
    "    labels = []\n",
    "    \n",
    "    for i in range(11):\n",
    "        inputs.append([0.1 * i, 0.1 * i])\n",
    "        labels.append(0)\n",
    "        \n",
    "        if 0.1 * i == 0.5:\n",
    "            continue\n",
    "            \n",
    "        inputs.append([0.1 * i, 1 - 0.1*i])\n",
    "        labels.append(1)\n",
    "\n",
    "    return np.array(inputs), np.array(labels).reshape(21, 1)"
   ]
  },
  {
   "cell_type": "code",
   "execution_count": 4,
   "metadata": {},
   "outputs": [],
   "source": [
    "def plot_data(X, y, pred_y):\n",
    "    print(\"Acc: \", 1 - np.mean(abs(y - pred_y)))\n",
    "    fig, ax = plt.subplots(nrows = 1, ncols = 2, figsize=(10, 10))\n",
    "    color_real = ['red' if l == 0 else 'green' for l in y]\n",
    "    color_pred = ['red' if l == 0 else 'green' for l in pred_y]\n",
    "    \n",
    "    ax[0].scatter(X[:, 0], X[:, 1], color=color_real)\n",
    "    ax[0].set_aspect(\"equal\")\n",
    "    ax[0].title.set_text(\"real\")\n",
    "\n",
    "    ax[1].scatter(X[:, 0], X[:, 1], color=color_pred)\n",
    "    ax[1].title.set_text(\"predict\")\n",
    "    ax[1].set_aspect(\"equal\")\n",
    "    plt.show()"
   ]
  },
  {
   "cell_type": "code",
   "execution_count": 5,
   "metadata": {},
   "outputs": [],
   "source": [
    "class Model():\n",
    "    # input is 3d(x, y coordinate + 1 for bias), output is 1d\n",
    "    # 2 hidden layer, 2 neurons for each\n",
    "\n",
    "    def __init__(self, lr):\n",
    "        self.lr = lr\n",
    "        self.W_0 = np.random.random((3, 2))\n",
    "        self.W_1 = np.random.random((2, 1))\n",
    "        pass\n",
    "    \n",
    "    def sigmoid(self, x):\n",
    "        return 1.0 / (1.0 + np.exp(-x))\n",
    "    \n",
    "    def derivative_sigmoid(self, x):\n",
    "        return np.multiply(x, 1.0 - x)\n",
    "    \n",
    "    def cal_loss(self, y, pred_y):\n",
    "        # using cross entropy\n",
    "        return -(y * np.log(pred_y) + (1 - y) * np.log(1 - pred_y))\n",
    "    \n",
    "    def derivative_loss(self, y, pred_y):\n",
    "        return (-y / pred_y) + (1 - y) / (1 - pred_y)\n",
    "    \n",
    "    def update_W(self, y, pred_y, z1, x):\n",
    "        # first update W_1, then W_0\n",
    "#         dJdy = self.derivative_loss(y, pred_y)  # 1*1\n",
    "#         dydw1z1 = self.derivative_sigmoid(pred_y)  # 1*1\n",
    "#         dw1z1dw1 = z1.T  # 2*1\n",
    "#         delta_W1 = dJdy * dydw1z1 * dw1z1dw1\n",
    "        \n",
    "#         dw1z1dz1 = self.W_1\n",
    "#         dEdz1 = dJdy * dydw1z1 * dw1z1dz1  # 2*1\n",
    "#         dz1dw0x = self.derivative_sigmoid(z1)  # 2*1\n",
    "#         dw0xdx = x.T   # 1*3\n",
    "#         delta_W0 = dEdz1 * dz1dw0x * dw0xdx\n",
    "        \n",
    "#         self.W_1 -= lr * delta_W1.T  # 2*1\n",
    "#         self.W_0 -= lr * delta_W0.T  # 3*2\n",
    "        \n",
    "        error = self.derivative_loss(y, pred_y)  # 1*1\n",
    "        delta_output = error * self.derivative_sigmoid(pred_y)  # 1*1\n",
    "        dw1z1dw1 = z1.T  # 2*1\n",
    "        deriv_W1 = delta_output * dw1z1dw1\n",
    "        \n",
    "        dw1z1dz1 = self.W_1\n",
    "        error = delta_output * dw1z1dz1  # 2*1\n",
    "        delta_hidden = error * self.derivative_sigmoid(z1)  # 2*1\n",
    "        dw0xdx = x.T   # 1*3\n",
    "        deriv_W0 = delta_hidden * dw0xdx\n",
    "        \n",
    "        self.W_1 -= lr * deriv_W1.T  # 2*1\n",
    "        self.W_0 -= lr * deriv_W0.T  # 3*2\n",
    "    \n",
    "    \n",
    "    def preprocess_x(self, X_train):\n",
    "        # add bias term\n",
    "        X_train = np.hstack((X_train, np.ones(X_train.shape[0]).reshape(-1, 1)))\n",
    "        return X_train\n",
    "    \n",
    "    def train(self, X_train, y_train, iteration=100):\n",
    "        X_train = self.preprocess_x(X_train)\n",
    "        \n",
    "        for i in range(iteration):\n",
    "            pred_y = []\n",
    "            for x, y in zip(X_train, y_train):\n",
    "                x = x.reshape(-1, 1)\n",
    "                z1 = self.sigmoid(self.W_0.T.dot(x))  # (2*3)(3*1) = 2*1\n",
    "                y_hat = self.sigmoid(self.W_1.T.dot(z1))  # (1*2)(2*1) = 1*1\n",
    "                loss = self.cal_loss(y, y_hat)\n",
    "                self.update_W(y, y_hat, z1, x)\n",
    "                pred_y.extend(y_hat)\n",
    "            \n",
    "            if i % 100 == 0:\n",
    "                pred_y = np.array(pred_y)\n",
    "                print(\"cross entropy: \", np.mean(self.cal_loss(y, pred_y)))\n",
    "        \n",
    "        return np.round(np.array(pred_y))"
   ]
  },
  {
   "cell_type": "code",
   "execution_count": 252,
   "metadata": {},
   "outputs": [],
   "source": [
    "class Model():\n",
    "    # input is 3d(x, y coordinate + 1 for bias), output is 1d\n",
    "    # 2 hidden layer, 2 neurons for each\n",
    "    class Layer():\n",
    "        def __init__(self, size):\n",
    "            self.error = -1\n",
    "            self.delta = -1\n",
    "            self.W = np.random.random(size)\n",
    "            self.out_data = -1\n",
    "                        \n",
    "    def __init__(self):\n",
    "        self.layer = []\n",
    "    \n",
    "    def add_layer(self, size):\n",
    "        l = self.Layer(size)\n",
    "        self.layer.append(l)\n",
    "    \n",
    "    def sigmoid(self, x):\n",
    "        return 1.0 / (1.0 + np.exp(-x))\n",
    "    \n",
    "    def derivative_sigmoid(self, x):\n",
    "        return np.multiply(x, 1.0 - x)\n",
    "    \n",
    "    def cal_loss(self, y, pred_y):\n",
    "        # using cross entropy\n",
    "        return -(y * np.log(pred_y) + (1 - y) * np.log(1 - pred_y))\n",
    "    \n",
    "    def derivative_loss(self, y, pred_y):\n",
    "        return (-y / pred_y) + (1 - y) / (1 - pred_y)\n",
    "    \n",
    "    def update_W(self, x, y, pred_y, lr):\n",
    "        # first update W_1, then W_0\n",
    "        for i in range(len(self.layer))[::-1]:\n",
    "            if i == len(self.layer) - 1:\n",
    "                self.layer[i].error = self.derivative_loss(y, pred_y)\n",
    "            else:\n",
    "                self.layer[i].error = self.layer[i+1].delta * self.layer[i+1].W\n",
    "                \n",
    "            self.layer[i].delta = self.layer[i].error * self.derivative_sigmoid(self.layer[i].out_data)\n",
    "            if i == 0:\n",
    "                self.layer[i].W += lr * (self.layer[i].delta * x.T)\n",
    "            else:\n",
    "                self.layer[i].W += lr * (self.layer[i].delta * self.layer[i-1].out_data.T)\n",
    "                \n",
    "#         error = self.derivative_loss(y, pred_y)  # 1*1\n",
    "#         delta_output = error * self.derivative_sigmoid(pred_y)  # 1*1\n",
    "#         dw1z1dw1 = z1.T  # 2*1\n",
    "#         deriv_W1 = delta_output * dw1z1dw1\n",
    "        \n",
    "#         dw1z1dz1 = self.W_1\n",
    "#         error = delta_output * dw1z1dz1  # 2*1\n",
    "#         delta_hidden = error * self.derivative_sigmoid(z1)  # 2*1\n",
    "#         dw0xdx = x.T   # 1*3\n",
    "#         deriv_W0 = delta_hidden * dw0xdx\n",
    "        \n",
    "#         self.W_1 -= lr * deriv_W1.T  # 2*1\n",
    "#         self.W_0 -= lr * deriv_W0.T  # 3*2\n",
    "    \n",
    "    \n",
    "    def preprocess_x(self, X_train):\n",
    "        # add bias term\n",
    "        X_train = np.hstack((X_train, np.ones(X_train.shape[0]).reshape(-1, 1)))\n",
    "        return X_train\n",
    "        \n",
    "    def train(self, X_train, y_train, lr, iteration=100):\n",
    "        X_train = self.preprocess_x(X_train)\n",
    "        \n",
    "        for i in range(iteration):\n",
    "            pred_y = []\n",
    "            for x, y in zip(X_train, y_train):\n",
    "#                 x = np.atleast_2d(x).T\n",
    "                x = x.reshape(-1, 1)\n",
    "                WTx = self.layer[0].W.T.dot(x)\n",
    "                self.layer[0].out_data = self.sigmoid(WTx)\n",
    "                for j in range(1, len(self.layer)):\n",
    "                    WTx = self.layer[j].W.T.dot(WTx)\n",
    "                    self.layer[j].out_data = self.sigmoid(WTx)\n",
    "                        \n",
    "                last_layer = self.layer[len(self.layer) - 1]\n",
    "                y_hat = last_layer.out_data\n",
    "                loss = self.cal_loss(y, y_hat)\n",
    "                self.update_W(x, y, y_hat, lr)\n",
    "                pred_y.extend(y_hat)\n",
    "            \n",
    "            if i % 1 == 0:\n",
    "                pred_y = np.array(pred_y)\n",
    "                print(\"cross entropy: \", np.mean(self.cal_loss(y, pred_y)))\n",
    "        \n",
    "        return np.round(np.array(pred_y))"
   ]
  },
  {
   "cell_type": "code",
   "execution_count": 253,
   "metadata": {
    "scrolled": true
   },
   "outputs": [
    {
     "ename": "ValueError",
     "evalue": "non-broadcastable output operand with shape (2,1) doesn't match the broadcast shape (2,2)",
     "output_type": "error",
     "traceback": [
      "\u001b[0;31m---------------------------------------------------------------------------\u001b[0m",
      "\u001b[0;31mValueError\u001b[0m                                Traceback (most recent call last)",
      "\u001b[0;32m<ipython-input-253-b917419e4c8d>\u001b[0m in \u001b[0;36m<module>\u001b[0;34m\u001b[0m\n\u001b[1;32m      5\u001b[0m \u001b[0mm\u001b[0m\u001b[0;34m.\u001b[0m\u001b[0madd_layer\u001b[0m\u001b[0;34m(\u001b[0m\u001b[0;34m(\u001b[0m\u001b[0;36m2\u001b[0m\u001b[0;34m,\u001b[0m \u001b[0;36m2\u001b[0m\u001b[0;34m)\u001b[0m\u001b[0;34m)\u001b[0m\u001b[0;34m\u001b[0m\u001b[0;34m\u001b[0m\u001b[0m\n\u001b[1;32m      6\u001b[0m \u001b[0mm\u001b[0m\u001b[0;34m.\u001b[0m\u001b[0madd_layer\u001b[0m\u001b[0;34m(\u001b[0m\u001b[0;34m(\u001b[0m\u001b[0;36m2\u001b[0m\u001b[0;34m,\u001b[0m \u001b[0;36m1\u001b[0m\u001b[0;34m)\u001b[0m\u001b[0;34m)\u001b[0m\u001b[0;34m\u001b[0m\u001b[0;34m\u001b[0m\u001b[0m\n\u001b[0;32m----> 7\u001b[0;31m \u001b[0mpred_y\u001b[0m \u001b[0;34m=\u001b[0m \u001b[0mm\u001b[0m\u001b[0;34m.\u001b[0m\u001b[0mtrain\u001b[0m\u001b[0;34m(\u001b[0m\u001b[0mX\u001b[0m\u001b[0;34m,\u001b[0m \u001b[0my\u001b[0m\u001b[0;34m,\u001b[0m \u001b[0mlr\u001b[0m\u001b[0;34m,\u001b[0m \u001b[0miteration\u001b[0m\u001b[0;34m=\u001b[0m\u001b[0;36m100\u001b[0m\u001b[0;34m)\u001b[0m\u001b[0;34m\u001b[0m\u001b[0;34m\u001b[0m\u001b[0m\n\u001b[0m\u001b[1;32m      8\u001b[0m \u001b[0mplot_data\u001b[0m\u001b[0;34m(\u001b[0m\u001b[0mX\u001b[0m\u001b[0;34m,\u001b[0m \u001b[0my\u001b[0m\u001b[0;34m,\u001b[0m \u001b[0mpred_y\u001b[0m\u001b[0;34m)\u001b[0m\u001b[0;34m\u001b[0m\u001b[0;34m\u001b[0m\u001b[0m\n",
      "\u001b[0;32m<ipython-input-252-9d3cda9947c2>\u001b[0m in \u001b[0;36mtrain\u001b[0;34m(self, X_train, y_train, lr, iteration)\u001b[0m\n\u001b[1;32m     80\u001b[0m                 \u001b[0my_hat\u001b[0m \u001b[0;34m=\u001b[0m \u001b[0mlast_layer\u001b[0m\u001b[0;34m.\u001b[0m\u001b[0mout_data\u001b[0m\u001b[0;34m\u001b[0m\u001b[0;34m\u001b[0m\u001b[0m\n\u001b[1;32m     81\u001b[0m                 \u001b[0mloss\u001b[0m \u001b[0;34m=\u001b[0m \u001b[0mself\u001b[0m\u001b[0;34m.\u001b[0m\u001b[0mcal_loss\u001b[0m\u001b[0;34m(\u001b[0m\u001b[0my\u001b[0m\u001b[0;34m,\u001b[0m \u001b[0my_hat\u001b[0m\u001b[0;34m)\u001b[0m\u001b[0;34m\u001b[0m\u001b[0;34m\u001b[0m\u001b[0m\n\u001b[0;32m---> 82\u001b[0;31m                 \u001b[0mself\u001b[0m\u001b[0;34m.\u001b[0m\u001b[0mupdate_W\u001b[0m\u001b[0;34m(\u001b[0m\u001b[0mx\u001b[0m\u001b[0;34m,\u001b[0m \u001b[0my\u001b[0m\u001b[0;34m,\u001b[0m \u001b[0my_hat\u001b[0m\u001b[0;34m,\u001b[0m \u001b[0mlr\u001b[0m\u001b[0;34m)\u001b[0m\u001b[0;34m\u001b[0m\u001b[0;34m\u001b[0m\u001b[0m\n\u001b[0m\u001b[1;32m     83\u001b[0m                 \u001b[0mpred_y\u001b[0m\u001b[0;34m.\u001b[0m\u001b[0mextend\u001b[0m\u001b[0;34m(\u001b[0m\u001b[0my_hat\u001b[0m\u001b[0;34m)\u001b[0m\u001b[0;34m\u001b[0m\u001b[0;34m\u001b[0m\u001b[0m\n\u001b[1;32m     84\u001b[0m \u001b[0;34m\u001b[0m\u001b[0m\n",
      "\u001b[0;32m<ipython-input-252-9d3cda9947c2>\u001b[0m in \u001b[0;36mupdate_W\u001b[0;34m(self, x, y, pred_y, lr)\u001b[0m\n\u001b[1;32m     41\u001b[0m                 \u001b[0mself\u001b[0m\u001b[0;34m.\u001b[0m\u001b[0mlayer\u001b[0m\u001b[0;34m[\u001b[0m\u001b[0mi\u001b[0m\u001b[0;34m]\u001b[0m\u001b[0;34m.\u001b[0m\u001b[0mW\u001b[0m \u001b[0;34m+=\u001b[0m \u001b[0mlr\u001b[0m \u001b[0;34m*\u001b[0m \u001b[0;34m(\u001b[0m\u001b[0mself\u001b[0m\u001b[0;34m.\u001b[0m\u001b[0mlayer\u001b[0m\u001b[0;34m[\u001b[0m\u001b[0mi\u001b[0m\u001b[0;34m]\u001b[0m\u001b[0;34m.\u001b[0m\u001b[0mdelta\u001b[0m \u001b[0;34m*\u001b[0m \u001b[0mx\u001b[0m\u001b[0;34m.\u001b[0m\u001b[0mT\u001b[0m\u001b[0;34m)\u001b[0m\u001b[0;34m\u001b[0m\u001b[0;34m\u001b[0m\u001b[0m\n\u001b[1;32m     42\u001b[0m             \u001b[0;32melse\u001b[0m\u001b[0;34m:\u001b[0m\u001b[0;34m\u001b[0m\u001b[0;34m\u001b[0m\u001b[0m\n\u001b[0;32m---> 43\u001b[0;31m                 \u001b[0mself\u001b[0m\u001b[0;34m.\u001b[0m\u001b[0mlayer\u001b[0m\u001b[0;34m[\u001b[0m\u001b[0mi\u001b[0m\u001b[0;34m]\u001b[0m\u001b[0;34m.\u001b[0m\u001b[0mW\u001b[0m \u001b[0;34m+=\u001b[0m \u001b[0mlr\u001b[0m \u001b[0;34m*\u001b[0m \u001b[0;34m(\u001b[0m\u001b[0mself\u001b[0m\u001b[0;34m.\u001b[0m\u001b[0mlayer\u001b[0m\u001b[0;34m[\u001b[0m\u001b[0mi\u001b[0m\u001b[0;34m]\u001b[0m\u001b[0;34m.\u001b[0m\u001b[0mdelta\u001b[0m \u001b[0;34m*\u001b[0m \u001b[0mself\u001b[0m\u001b[0;34m.\u001b[0m\u001b[0mlayer\u001b[0m\u001b[0;34m[\u001b[0m\u001b[0mi\u001b[0m\u001b[0;34m-\u001b[0m\u001b[0;36m1\u001b[0m\u001b[0;34m]\u001b[0m\u001b[0;34m.\u001b[0m\u001b[0mout_data\u001b[0m\u001b[0;34m.\u001b[0m\u001b[0mT\u001b[0m\u001b[0;34m)\u001b[0m\u001b[0;34m\u001b[0m\u001b[0;34m\u001b[0m\u001b[0m\n\u001b[0m\u001b[1;32m     44\u001b[0m \u001b[0;34m\u001b[0m\u001b[0m\n\u001b[1;32m     45\u001b[0m \u001b[0;31m#         error = self.derivative_loss(y, pred_y)  # 1*1\u001b[0m\u001b[0;34m\u001b[0m\u001b[0;34m\u001b[0m\u001b[0;34m\u001b[0m\u001b[0m\n",
      "\u001b[0;31mValueError\u001b[0m: non-broadcastable output operand with shape (2,1) doesn't match the broadcast shape (2,2)"
     ]
    }
   ],
   "source": [
    "lr = 0.9\n",
    "X, y = generate_linear()\n",
    "m = Model()\n",
    "m.add_layer((3, 2))\n",
    "m.add_layer((2, 2))\n",
    "m.add_layer((2, 1))\n",
    "pred_y = m.train(X, y, lr, iteration=100)\n",
    "plot_data(X, y, pred_y)"
   ]
  },
  {
   "cell_type": "code",
   "execution_count": 325,
   "metadata": {},
   "outputs": [
    {
     "name": "stdout",
     "output_type": "stream",
     "text": [
      "cross entropy:  0.712130187216079\n",
      "Acc:  0.7142857142857143\n"
     ]
    },
    {
     "data": {
      "image/png": "[encoded data removed]",
      "text/plain": [
       "<Figure size 720x720 with 2 Axes>"
      ]
     },
     "metadata": {
      "needs_background": "light"
     },
     "output_type": "display_data"
    }
   ],
   "source": [
    "lr = 0.8\n",
    "X, y = generate_XOR_easy()\n",
    "m = Model(lr)\n",
    "pred_y = m.train(X, y, iteration=100)\n",
    "plot_data(X, y, pred_y)"
   ]
  },
  {
   "cell_type": "code",
   "execution_count": 245,
   "metadata": {},
   "outputs": [
    {
     "name": "stdout",
     "output_type": "stream",
     "text": [
      "1\n",
      "2\n"
     ]
    }
   ],
   "source": [
    "for i in range(1, 3):\n",
    "    print(i)"
   ]
  },
  {
   "cell_type": "code",
   "execution_count": null,
   "metadata": {},
   "outputs": [],
   "source": []
  }
 ],
 "metadata": {
  "kernelspec": {
   "display_name": "Python 3",
   "language": "python",
   "name": "python3"
  },
  "language_info": {
   "codemirror_mode": {
    "name": "ipython",
    "version": 3
   },
   "file_extension": ".py",
   "mimetype": "text/x-python",
   "name": "python",
   "nbconvert_exporter": "python",
   "pygments_lexer": "ipython3",
   "version": "3.7.1"
  }
 },
 "nbformat": 4,
 "nbformat_minor": 2
}
